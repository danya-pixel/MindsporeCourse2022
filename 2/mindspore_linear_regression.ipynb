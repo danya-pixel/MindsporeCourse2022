{
 "cells": [
  {
   "cell_type": "markdown",
   "metadata": {},
   "source": [
    "# Simple Linear Function Fitting\n",
    "\n",
    "`Ascend` `GPU` `CPU` `Beginner` `Whole Process`\n",
    "\n",
    "Author: [Yi Yang](https://github.com/helloyesterday)&nbsp;&nbsp;&nbsp;&nbsp;Editor: [Mingfu Lv](https://gitee.com/lvmingfu)\n",
    "\n",
    "[![](https://gitee.com/mindspore/docs/raw/r1.5/resource/_static/logo_source_en.png)](https://gitee.com/mindspore/docs/blob/r1.5/tutorials/source_en/linear_regression.ipynb)&emsp;[![](https://gitee.com/mindspore/docs/raw/r1.5/resource/_static/logo_notebook_en.png)](https://mindspore-website.obs.cn-north-4.myhuaweicloud.com/notebook/r1.5/tutorials/en/mindspore_linear_regression.ipynb)&emsp;"
   ]
  },
  {
   "cell_type": "markdown",
   "metadata": {},
   "source": [
    "## Overview\n",
    "\n",
    "Regression algorithms usually use a series of properties to predict a value, and the predicted values are consecutive. For example, the price of a house is predicted based on some given feature data of the house, such as area and the number of bedrooms; or future temperature conditions are predicted by using the temperature change data and satellite cloud images in the last week. If the actual price of the house is CNY5 million, and the value predicted through regression analysis is CNY4.99 million, the regression analysis is considered accurate. For machine learning problems, common regression analysis includes linear regression, polynomial regression, and logistic regression. This example describes the linear regression algorithms and how to use MindSpore to perform linear regression AI training.\n",
    "\n",
    "The whole process is as follows:\n",
    "\n",
    "1. Generate datasets.\n",
    "2. Define a training network.\n",
    "3. Define and associate the forward and backward propagation networks.\n",
    "4. Prepare for fitting process visualization.\n",
    "5. Perform training.\n",
    "\n",
    "> This document is applicable to CPU, GPU and Ascend environments. The source code address of this example: <https://gitee.com/mindspore/docs/blob/r1.5/docs/sample_code/linear_regression.py>.\n",
    "\n",
    "## Environment Preparation\n",
    "\n",
    "Complete MindSpore running configuration."
   ]
  },
  {
   "cell_type": "code",
   "execution_count": 1,
   "metadata": {},
   "outputs": [],
   "source": [
    "from mindspore import context\n",
    "\n",
    "context.set_context(mode=context.GRAPH_MODE, device_target=\"CPU\")"
   ]
  },
  {
   "cell_type": "markdown",
   "metadata": {},
   "source": [
    "`GRAPH_MODE`: graph mode.\n",
    "\n",
    "`device_target`: sets the MindSpore training hardware to CPU.\n",
    "\n",
    "> Third-party support package: `matplotlib` and `IPython`. If this package is not installed, run the `pip install matplotlib IPython` command to install it first.\n",
    "\n",
    "## Generating Datasets\n",
    "\n",
    "### Defining the Dataset Generation Function\n",
    "\n",
    "`get_data` is used to generate training and test datasets. Since linear data is fitted, the required training datasets should be randomly distributed around the objective function. Assume that the objective function to be fitted is $f(x)=2x+3$. $f(x)=2x+3+noise$ is used to generate training datasets, and `noise` is a random value that complies with standard normal distribution rules."
   ]
  },
  {
   "cell_type": "code",
   "execution_count": 2,
   "metadata": {},
   "outputs": [],
   "source": [
    "import numpy as np\n",
    "\n",
    "def get_data(num, w=2.0, b=3.0):\n",
    "    for _ in range(num):\n",
    "        x = np.random.uniform(-10.0, 10.0)\n",
    "        noise = np.random.normal(0, 1)\n",
    "        y = x * w + b + noise\n",
    "        yield np.array([x]).astype(np.float32), np.array([y]).astype(np.float32)"
   ]
  },
  {
   "cell_type": "markdown",
   "metadata": {},
   "source": [
    "Use `get_data` to generate 50 groups of test data and visualize them."
   ]
  },
  {
   "cell_type": "code",
   "execution_count": 3,
   "metadata": {},
   "outputs": [
    {
     "data": {
      "image/png": "[encoded data removed]",
      "text/plain": [
       "<Figure size 432x288 with 1 Axes>"
      ]
     },
     "metadata": {
      "needs_background": "light"
     },
     "output_type": "display_data"
    }
   ],
   "source": [
    "import matplotlib.pyplot as plt\n",
    "\n",
    "eval_data = list(get_data(50))\n",
    "x_target_label = np.array([-10, 10, 0.1])\n",
    "y_target_label = x_target_label * 2 + 3\n",
    "x_eval_label,y_eval_label = zip(*eval_data)\n",
    "\n",
    "plt.scatter(x_eval_label, y_eval_label, color=\"red\", s=5)\n",
    "plt.plot(x_target_label, y_target_label, color=\"green\")\n",
    "plt.title(\"Eval data\")\n",
    "plt.show()"
   ]
  },
  {
   "cell_type": "markdown",
   "metadata": {},
   "source": [
    "In the preceding figure, the green line indicates the objective function, and the red points indicate the verification data `eval_data`.\n",
    "\n",
    "### Defining the Data Argumentation Function\n",
    "\n",
    "Use the MindSpore data conversion function `GeneratorDataset` to convert the data type to that suitable for MindSpore training, and then use `batch` and `repeat` to perform data argumentation. The operation is described as follows:\n",
    "\n",
    "- `ds.GeneratorDataset`: converts the generated data into a MindSpore dataset and saves the x and y values of the generated data to arrays of `data` and `label`.\n",
    "- `batch`: combines `batch_size` pieces of data into a batch.\n",
    "- `repeat`: multiplies the number of datasets."
   ]
  },
  {
   "cell_type": "code",
   "execution_count": 4,
   "metadata": {},
   "outputs": [],
   "source": [
    "from mindspore import dataset as ds\n",
    "\n",
    "def create_dataset(num_data, batch_size=16, repeat_size=1):\n",
    "    input_data = ds.GeneratorDataset(list(get_data(num_data)), column_names=['data','label'])\n",
    "    input_data = input_data.batch(batch_size)\n",
    "    input_data = input_data.repeat(repeat_size)\n",
    "    return input_data"
   ]
  },
  {
   "cell_type": "markdown",
   "metadata": {},
   "source": [
    "Use the dataset argumentation function to generate training data and view the training data format."
   ]
  },
  {
   "cell_type": "code",
   "execution_count": 5,
   "metadata": {},
   "outputs": [
    {
     "name": "stdout",
     "output_type": "stream",
     "text": [
      "The dataset size of ds_train: 100\n",
      "dict_keys(['data', 'label'])\n",
      "The x label value shape: (16, 1)\n",
      "The y label value shape: (16, 1)\n"
     ]
    }
   ],
   "source": [
    "data_number = 1600\n",
    "batch_number = 16\n",
    "repeat_number = 1\n",
    "\n",
    "ds_train = create_dataset(data_number, batch_size=batch_number, repeat_size=repeat_number) \n",
    "print(\"The dataset size of ds_train:\", ds_train.get_dataset_size())\n",
    "dict_datasets = next(ds_train.create_dict_iterator())\n",
    "\n",
    "print(dict_datasets.keys())\n",
    "print(\"The x label value shape:\", dict_datasets[\"data\"].shape)\n",
    "print(\"The y label value shape:\", dict_datasets[\"label\"].shape)"
   ]
  },
  {
   "cell_type": "markdown",
   "metadata": {},
   "source": [
    "Use the defined `create_dataset` to perform argumentation on the generated 1600 data records and set them into 100 datasets with the shape of 16 x 1.\n",
    "\n",
    "## Defining the Training Network\n",
    "\n",
    "In MindSpore, use `nn.Dense` to generate a linear function model of single data input and single data output.\n",
    "\n",
    "$$f(x)=wx+b\\tag{1}$$\n",
    "\n",
    "Use the Normal operator to randomly initialize the weights $w$ and $b$."
   ]
  },
  {
   "cell_type": "code",
   "execution_count": 6,
   "metadata": {},
   "outputs": [],
   "source": [
    "from mindspore.common.initializer import Normal\n",
    "from mindspore import nn\n",
    "\n",
    "class LinearNet(nn.Cell):\n",
    "    def __init__(self):\n",
    "        super(LinearNet, self).__init__()\n",
    "        self.fc = nn.Dense(1, 1, Normal(0.02), Normal(0.02))\n",
    "        \n",
    "    def construct(self, x):\n",
    "        x = self.fc(x)\n",
    "        return x"
   ]
  },
  {
   "cell_type": "markdown",
   "metadata": {},
   "source": [
    "Call the network to view the initialized model parameters."
   ]
  },
  {
   "cell_type": "code",
   "execution_count": 7,
   "metadata": {},
   "outputs": [
    {
     "name": "stdout",
     "output_type": "stream",
     "text": [
      "Parameter (name=fc.weight, shape=(1, 1), dtype=Float32, requires_grad=True) [[-0.01086285]]\n",
      "Parameter (name=fc.bias, shape=(1,), dtype=Float32, requires_grad=True) [0.02565794]\n"
     ]
    }
   ],
   "source": [
    "net = LinearNet()\n",
    "model_params = net.trainable_params()\n",
    "for param in model_params:\n",
    "    print(param, param.asnumpy())"
   ]
  },
  {
   "cell_type": "markdown",
   "metadata": {},
   "source": [
    "After initializing the network model, visualize the initialized network function and training dataset to understand the model function before fitting."
   ]
  },
  {
   "cell_type": "code",
   "execution_count": 8,
   "metadata": {},
   "outputs": [
    {
     "data": {
      "image/png": "[encoded data removed]",
      "text/plain": [
       "<Figure size 432x288 with 1 Axes>"
      ]
     },
     "metadata": {
      "needs_background": "light"
     },
     "output_type": "display_data"
    }
   ],
   "source": [
    "from mindspore import Tensor\n",
    "\n",
    "x_model_label = np.array([-10, 10, 0.1])\n",
    "y_model_label = (x_model_label * Tensor(model_params[0]).asnumpy()[0][0] +\n",
    "                 Tensor(model_params[1]).asnumpy()[0])\n",
    "plt.axis([-10, 10, -20, 25])\n",
    "plt.scatter(x_eval_label, y_eval_label, color=\"red\", s=5)\n",
    "plt.plot(x_model_label, y_model_label, color=\"blue\")\n",
    "plt.plot(x_target_label, y_target_label, color=\"green\")\n",
    "plt.show()"
   ]
  },
  {
   "cell_type": "markdown",
   "metadata": {},
   "source": [
    "As shown in the preceding figure, the initialized model function in blue differs greatly from the objective function in green.\n",
    "\n",
    "## Defining and Associating the Forward and Backward Propagation Networks\n",
    "\n",
    "Define the loss function of the model. The mean squared error (MSE) method is used to determine the fitting effect. The smaller the MSE value difference, the better the fitting effect. The loss function formula is as follows:\n",
    "\n",
    "$$J(w)=\\frac{1}{2m}\\sum_{i=1}^m(h(x_i)-y^{(i)})^2\\tag{2}$$\n",
    "\n",
    "Assuming that the $i$th data record in the training data is $(x_i,y^{(i)})$, parameters in formula 2 are described as follows:\n",
    "\n",
    "- $J(w)$ specifies the loss value.\n",
    "\n",
    "- $m$ specifies the amount of sample data. In this example, the value of $m$ is `batch_number`.\n",
    "\n",
    "- $h(x_i)$ is a predicted value obtained after the $x_i$ value of the $i$th data record is substituted into the model network (formula 1).\n",
    "\n",
    "- $y^{(i)}$ is the $y^{(i)}$ value (label value) of the $i$th data record.\n",
    "\n",
    "### Defining the Forward Propagation Network\n",
    "\n",
    "A forward propagation network consists of two parts:\n",
    "\n",
    "1. Bring parameters into the model network to obtain the predicted value.\n",
    "2. Use the predicted value and training data to compute the loss value.\n",
    "\n",
    "The following method is used in MindSpore:"
   ]
  },
  {
   "cell_type": "code",
   "execution_count": 9,
   "metadata": {},
   "outputs": [],
   "source": [
    "net = LinearNet()\n",
    "net_loss = nn.loss.MSELoss()"
   ]
  },
  {
   "cell_type": "markdown",
   "metadata": {},
   "source": [
    "### Defining the Backward Propagation Network\n",
    "\n",
    "The objective of the backward propagation network is to continuously change the weight value to obtain the minimum loss value. Generally, the weight update formula is used in the linear network:\n",
    "\n",
    "$$w_{t}=w_{t-1}-\\alpha\\frac{\\partial{J(w_{t-1})}}{\\partial{w}}\\tag{3}$$\n",
    "\n",
    "Parameters in formula 3 are described as follows:\n",
    "\n",
    "- $w_{t}$ indicates the weight after training steps.\n",
    "- $w_{t-1}$ indicates the weight before training steps.\n",
    "- $\\alpha$ indicates the learning rate.\n",
    "- $\\frac{\\partial{J(w_{t-1}\\ )}}{\\partial{w}}$ is the differentiation of the loss function to the weight $w_{t-1}$.\n",
    "\n",
    "After all weight values in the function are updated, transfer the values to the model function. This process is the backward propagation. To implement this process, the optimizer function in MindSpore is required."
   ]
  },
  {
   "cell_type": "code",
   "execution_count": 10,
   "metadata": {},
   "outputs": [],
   "source": [
    "opt = nn.Momentum(net.trainable_params(), learning_rate=0.005, momentum=0.9)"
   ]
  },
  {
   "cell_type": "markdown",
   "metadata": {},
   "source": [
    "### Associating the Forward and Backward Propagation Networks\n",
    "\n",
    "After forward propagation and backward propagation are defined, call the `Model` function in MindSpore to associate the previously defined networks, loss functions, and optimizer function to form a complete computing network."
   ]
  },
  {
   "cell_type": "code",
   "execution_count": 11,
   "metadata": {},
   "outputs": [],
   "source": [
    "from mindspore import Model\n",
    "\n",
    "model = Model(net, net_loss, opt)"
   ]
  },
  {
   "cell_type": "markdown",
   "metadata": {},
   "source": [
    "## Preparation for Fitting Process Visualization\n",
    "\n",
    "### Defining the Visualization Function\n",
    "\n",
    "To make the entire training process easier to understand, the test data, objective function, and model network of the training process need to be visualized. The following defines a visualization function which is called after each training step to display a fitting process of the model network."
   ]
  },
  {
   "cell_type": "code",
   "execution_count": 12,
   "metadata": {},
   "outputs": [],
   "source": [
    "import matplotlib.pyplot as plt\n",
    "import time\n",
    "\n",
    "def plot_model_and_datasets(net, eval_data):\n",
    "    weight = net.trainable_params()[0]\n",
    "    bias = net.trainable_params()[1]\n",
    "    x = np.arange(-10, 10, 0.1)\n",
    "    y = x * Tensor(weight).asnumpy()[0][0] + Tensor(bias).asnumpy()[0]\n",
    "    x1, y1 = zip(*eval_data)\n",
    "    x_target = x\n",
    "    y_target = x_target * 2 + 3\n",
    "\n",
    "    plt.axis([-11, 11, -20, 25])\n",
    "    plt.scatter(x1, y1, color=\"red\", s=5)\n",
    "    plt.plot(x, y, color=\"blue\")\n",
    "    plt.plot(x_target, y_target, color=\"green\")\n",
    "    plt.show()\n",
    "    time.sleep(0.2)"
   ]
  },
  {
   "cell_type": "markdown",
   "metadata": {},
   "source": [
    "### Defining the Callback Function\n",
    "\n",
    "MindSpore provides tools to customize the model training process. The following calls the visualization function in `step_end` to display the fitting process. For more information, see [Customized Debugging Information](https://www.mindspore.cn/docs/programming_guide/en/r1.5/custom_debugging_info.html#callback).\n",
    "\n",
    "- `display.clear_output`：Clear the printed content to achieve dynamic fitting effect."
   ]
  },
  {
   "cell_type": "code",
   "execution_count": 13,
   "metadata": {},
   "outputs": [],
   "source": [
    "from IPython import display\n",
    "from mindspore.train.callback import Callback\n",
    "\n",
    "class ImageShowCallback(Callback):\n",
    "    def __init__(self, net, eval_data):\n",
    "        self.net = net\n",
    "        self.eval_data = eval_data\n",
    "\n",
    "    def step_end(self, run_context):\n",
    "        plot_model_and_datasets(self.net, self.eval_data)\n",
    "        display.clear_output(wait=True)"
   ]
  },
  {
   "cell_type": "markdown",
   "metadata": {},
   "source": [
    "## Performing Training\n",
    "\n",
    "After the preceding process is complete, use the training parameter `ds_train` to train the model. In this example, `model.train` is called. The parameters are described as follows:\n",
    "\n",
    "- `epoch`: Number of times that the entire dataset is trained.\n",
    "- `ds_train`: Training dataset.\n",
    "- `callbacks`: Required callback function during training.\n",
    "- `dataset_sink_mode`: Dataset offload mode, which supports the Ascend and GPU computing platforms. In this example, this parameter is set to False for the CPU computing platform."
   ]
  },
  {
   "cell_type": "code",
   "execution_count": 14,
   "metadata": {},
   "outputs": [
    {
     "ename": "KeyboardInterrupt",
     "evalue": "",
     "output_type": "error",
     "traceback": [
      "\u001b[0;31m---------------------------------------------------------------------------\u001b[0m",
      "\u001b[0;31mKeyboardInterrupt\u001b[0m                         Traceback (most recent call last)",
      "\u001b[1;32m/home/danya-sakharov/Documents/MindsporeLabs/1/mindspore_linear_regression.ipynb Cell 29'\u001b[0m in \u001b[0;36m<cell line: 5>\u001b[0;34m()\u001b[0m\n\u001b[1;32m      <a href='vscode-notebook-cell:/home/danya-sakharov/Documents/MindsporeLabs/1/mindspore_linear_regression.ipynb#ch0000028?line=2'>3</a>\u001b[0m epoch \u001b[39m=\u001b[39m \u001b[39m1\u001b[39m\n\u001b[1;32m      <a href='vscode-notebook-cell:/home/danya-sakharov/Documents/MindsporeLabs/1/mindspore_linear_regression.ipynb#ch0000028?line=3'>4</a>\u001b[0m imageshow_cb \u001b[39m=\u001b[39m ImageShowCallback(net, eval_data)\n\u001b[0;32m----> <a href='vscode-notebook-cell:/home/danya-sakharov/Documents/MindsporeLabs/1/mindspore_linear_regression.ipynb#ch0000028?line=4'>5</a>\u001b[0m model\u001b[39m.\u001b[39;49mtrain(epoch, ds_train, callbacks\u001b[39m=\u001b[39;49m[imageshow_cb], dataset_sink_mode\u001b[39m=\u001b[39;49m\u001b[39mFalse\u001b[39;49;00m)\n\u001b[1;32m      <a href='vscode-notebook-cell:/home/danya-sakharov/Documents/MindsporeLabs/1/mindspore_linear_regression.ipynb#ch0000028?line=6'>7</a>\u001b[0m plot_model_and_datasets(net, eval_data)\n\u001b[1;32m      <a href='vscode-notebook-cell:/home/danya-sakharov/Documents/MindsporeLabs/1/mindspore_linear_regression.ipynb#ch0000028?line=7'>8</a>\u001b[0m \u001b[39mfor\u001b[39;00m param \u001b[39min\u001b[39;00m net\u001b[39m.\u001b[39mtrainable_params():\n",
      "File \u001b[0;32m~/Documents/MindsporeLabs/.venv/lib/python3.9/site-packages/mindspore/train/model.py:902\u001b[0m, in \u001b[0;36mModel.train\u001b[0;34m(self, epoch, train_dataset, callbacks, dataset_sink_mode, sink_size)\u001b[0m\n\u001b[1;32m    <a href='file:///home/danya-sakharov/Documents/MindsporeLabs/.venv/lib/python3.9/site-packages/mindspore/train/model.py?line=896'>897</a>\u001b[0m     \u001b[39mraise\u001b[39;00m \u001b[39mValueError\u001b[39;00m(\u001b[39m\"\u001b[39m\u001b[39mFor \u001b[39m\u001b[39m'\u001b[39m\u001b[39mModel.train\u001b[39m\u001b[39m'\u001b[39m\u001b[39m, The argument \u001b[39m\u001b[39m'\u001b[39m\u001b[39msink_size\u001b[39m\u001b[39m'\u001b[39m\u001b[39m must be -1 or positive, \u001b[39m\u001b[39m\"\u001b[39m\n\u001b[1;32m    <a href='file:///home/danya-sakharov/Documents/MindsporeLabs/.venv/lib/python3.9/site-packages/mindspore/train/model.py?line=897'>898</a>\u001b[0m                      \u001b[39m\"\u001b[39m\u001b[39mbut got \u001b[39m\u001b[39m{}\u001b[39;00m\u001b[39m.\u001b[39m\u001b[39m\"\u001b[39m\u001b[39m.\u001b[39mformat(sink_size))\n\u001b[1;32m    <a href='file:///home/danya-sakharov/Documents/MindsporeLabs/.venv/lib/python3.9/site-packages/mindspore/train/model.py?line=899'>900</a>\u001b[0m _device_number_check(\u001b[39mself\u001b[39m\u001b[39m.\u001b[39m_parallel_mode, \u001b[39mself\u001b[39m\u001b[39m.\u001b[39m_device_number)\n\u001b[0;32m--> <a href='file:///home/danya-sakharov/Documents/MindsporeLabs/.venv/lib/python3.9/site-packages/mindspore/train/model.py?line=901'>902</a>\u001b[0m \u001b[39mself\u001b[39;49m\u001b[39m.\u001b[39;49m_train(epoch,\n\u001b[1;32m    <a href='file:///home/danya-sakharov/Documents/MindsporeLabs/.venv/lib/python3.9/site-packages/mindspore/train/model.py?line=902'>903</a>\u001b[0m             train_dataset,\n\u001b[1;32m    <a href='file:///home/danya-sakharov/Documents/MindsporeLabs/.venv/lib/python3.9/site-packages/mindspore/train/model.py?line=903'>904</a>\u001b[0m             callbacks\u001b[39m=\u001b[39;49mcallbacks,\n\u001b[1;32m    <a href='file:///home/danya-sakharov/Documents/MindsporeLabs/.venv/lib/python3.9/site-packages/mindspore/train/model.py?line=904'>905</a>\u001b[0m             dataset_sink_mode\u001b[39m=\u001b[39;49mdataset_sink_mode,\n\u001b[1;32m    <a href='file:///home/danya-sakharov/Documents/MindsporeLabs/.venv/lib/python3.9/site-packages/mindspore/train/model.py?line=905'>906</a>\u001b[0m             sink_size\u001b[39m=\u001b[39;49msink_size)\n",
      "File \u001b[0;32m~/Documents/MindsporeLabs/.venv/lib/python3.9/site-packages/mindspore/train/model.py:87\u001b[0m, in \u001b[0;36m_save_final_ckpt.<locals>.wrapper\u001b[0;34m(self, *args, **kwargs)\u001b[0m\n\u001b[1;32m     <a href='file:///home/danya-sakharov/Documents/MindsporeLabs/.venv/lib/python3.9/site-packages/mindspore/train/model.py?line=84'>85</a>\u001b[0m         \u001b[39mraise\u001b[39;00m e\n\u001b[1;32m     <a href='file:///home/danya-sakharov/Documents/MindsporeLabs/.venv/lib/python3.9/site-packages/mindspore/train/model.py?line=85'>86</a>\u001b[0m \u001b[39melse\u001b[39;00m:\n\u001b[0;32m---> <a href='file:///home/danya-sakharov/Documents/MindsporeLabs/.venv/lib/python3.9/site-packages/mindspore/train/model.py?line=86'>87</a>\u001b[0m     func(\u001b[39mself\u001b[39;49m, \u001b[39m*\u001b[39;49margs, \u001b[39m*\u001b[39;49m\u001b[39m*\u001b[39;49mkwargs)\n",
      "File \u001b[0;32m~/Documents/MindsporeLabs/.venv/lib/python3.9/site-packages/mindspore/train/model.py:542\u001b[0m, in \u001b[0;36mModel._train\u001b[0;34m(self, epoch, train_dataset, callbacks, dataset_sink_mode, sink_size)\u001b[0m\n\u001b[1;32m    <a href='file:///home/danya-sakharov/Documents/MindsporeLabs/.venv/lib/python3.9/site-packages/mindspore/train/model.py?line=539'>540</a>\u001b[0m \u001b[39mself\u001b[39m\u001b[39m.\u001b[39m_check_reuse_dataset(train_dataset)\n\u001b[1;32m    <a href='file:///home/danya-sakharov/Documents/MindsporeLabs/.venv/lib/python3.9/site-packages/mindspore/train/model.py?line=540'>541</a>\u001b[0m \u001b[39mif\u001b[39;00m \u001b[39mnot\u001b[39;00m dataset_sink_mode:\n\u001b[0;32m--> <a href='file:///home/danya-sakharov/Documents/MindsporeLabs/.venv/lib/python3.9/site-packages/mindspore/train/model.py?line=541'>542</a>\u001b[0m     \u001b[39mself\u001b[39;49m\u001b[39m.\u001b[39;49m_train_process(epoch, train_dataset, list_callback, cb_params)\n\u001b[1;32m    <a href='file:///home/danya-sakharov/Documents/MindsporeLabs/.venv/lib/python3.9/site-packages/mindspore/train/model.py?line=542'>543</a>\u001b[0m \u001b[39melif\u001b[39;00m context\u001b[39m.\u001b[39mget_context(\u001b[39m\"\u001b[39m\u001b[39mdevice_target\u001b[39m\u001b[39m\"\u001b[39m) \u001b[39m==\u001b[39m \u001b[39m\"\u001b[39m\u001b[39mCPU\u001b[39m\u001b[39m\"\u001b[39m:\n\u001b[1;32m    <a href='file:///home/danya-sakharov/Documents/MindsporeLabs/.venv/lib/python3.9/site-packages/mindspore/train/model.py?line=543'>544</a>\u001b[0m     logger\u001b[39m.\u001b[39minfo(\u001b[39m\"\u001b[39m\u001b[39mThe CPU cannot support dataset sink mode currently.\u001b[39m\u001b[39m\"\u001b[39m\n\u001b[1;32m    <a href='file:///home/danya-sakharov/Documents/MindsporeLabs/.venv/lib/python3.9/site-packages/mindspore/train/model.py?line=544'>545</a>\u001b[0m                 \u001b[39m\"\u001b[39m\u001b[39mSo the training process will be performed with dataset not sink.\u001b[39m\u001b[39m\"\u001b[39m)\n",
      "File \u001b[0;32m~/Documents/MindsporeLabs/.venv/lib/python3.9/site-packages/mindspore/train/model.py:801\u001b[0m, in \u001b[0;36mModel._train_process\u001b[0;34m(self, epoch, train_dataset, list_callback, cb_params)\u001b[0m\n\u001b[1;32m    <a href='file:///home/danya-sakharov/Documents/MindsporeLabs/.venv/lib/python3.9/site-packages/mindspore/train/model.py?line=797'>798</a>\u001b[0m     overflow \u001b[39m=\u001b[39m np\u001b[39m.\u001b[39mall(overflow\u001b[39m.\u001b[39masnumpy())\n\u001b[1;32m    <a href='file:///home/danya-sakharov/Documents/MindsporeLabs/.venv/lib/python3.9/site-packages/mindspore/train/model.py?line=798'>799</a>\u001b[0m     \u001b[39mself\u001b[39m\u001b[39m.\u001b[39m_loss_scale_manager\u001b[39m.\u001b[39mupdate_loss_scale(overflow)\n\u001b[0;32m--> <a href='file:///home/danya-sakharov/Documents/MindsporeLabs/.venv/lib/python3.9/site-packages/mindspore/train/model.py?line=800'>801</a>\u001b[0m list_callback\u001b[39m.\u001b[39;49mstep_end(run_context)\n\u001b[1;32m    <a href='file:///home/danya-sakharov/Documents/MindsporeLabs/.venv/lib/python3.9/site-packages/mindspore/train/model.py?line=801'>802</a>\u001b[0m \u001b[39mif\u001b[39;00m _is_role_pserver() \u001b[39mor\u001b[39;00m _is_role_sched():\n\u001b[1;32m    <a href='file:///home/danya-sakharov/Documents/MindsporeLabs/.venv/lib/python3.9/site-packages/mindspore/train/model.py?line=802'>803</a>\u001b[0m     os\u001b[39m.\u001b[39m_exit(\u001b[39m0\u001b[39m)\n",
      "File \u001b[0;32m~/Documents/MindsporeLabs/.venv/lib/python3.9/site-packages/mindspore/train/callback/_callback.py:226\u001b[0m, in \u001b[0;36mCallbackManager.step_end\u001b[0;34m(self, run_context)\u001b[0m\n\u001b[1;32m    <a href='file:///home/danya-sakharov/Documents/MindsporeLabs/.venv/lib/python3.9/site-packages/mindspore/train/callback/_callback.py?line=223'>224</a>\u001b[0m \u001b[39m\"\"\"Called after each step finished.\"\"\"\u001b[39;00m\n\u001b[1;32m    <a href='file:///home/danya-sakharov/Documents/MindsporeLabs/.venv/lib/python3.9/site-packages/mindspore/train/callback/_callback.py?line=224'>225</a>\u001b[0m \u001b[39mfor\u001b[39;00m cb \u001b[39min\u001b[39;00m \u001b[39mself\u001b[39m\u001b[39m.\u001b[39m_callbacks:\n\u001b[0;32m--> <a href='file:///home/danya-sakharov/Documents/MindsporeLabs/.venv/lib/python3.9/site-packages/mindspore/train/callback/_callback.py?line=225'>226</a>\u001b[0m     cb\u001b[39m.\u001b[39;49mstep_end(run_context)\n",
      "\u001b[1;32m/home/danya-sakharov/Documents/MindsporeLabs/1/mindspore_linear_regression.ipynb Cell 27'\u001b[0m in \u001b[0;36mImageShowCallback.step_end\u001b[0;34m(self, run_context)\u001b[0m\n\u001b[1;32m      <a href='vscode-notebook-cell:/home/danya-sakharov/Documents/MindsporeLabs/1/mindspore_linear_regression.ipynb#ch0000026?line=8'>9</a>\u001b[0m \u001b[39mdef\u001b[39;00m \u001b[39mstep_end\u001b[39m(\u001b[39mself\u001b[39m, run_context):\n\u001b[0;32m---> <a href='vscode-notebook-cell:/home/danya-sakharov/Documents/MindsporeLabs/1/mindspore_linear_regression.ipynb#ch0000026?line=9'>10</a>\u001b[0m     plot_model_and_datasets(\u001b[39mself\u001b[39;49m\u001b[39m.\u001b[39;49mnet, \u001b[39mself\u001b[39;49m\u001b[39m.\u001b[39;49meval_data)\n\u001b[1;32m     <a href='vscode-notebook-cell:/home/danya-sakharov/Documents/MindsporeLabs/1/mindspore_linear_regression.ipynb#ch0000026?line=10'>11</a>\u001b[0m     display\u001b[39m.\u001b[39mclear_output(wait\u001b[39m=\u001b[39m\u001b[39mTrue\u001b[39;00m)\n",
      "\u001b[1;32m/home/danya-sakharov/Documents/MindsporeLabs/1/mindspore_linear_regression.ipynb Cell 25'\u001b[0m in \u001b[0;36mplot_model_and_datasets\u001b[0;34m(net, eval_data)\u001b[0m\n\u001b[1;32m     <a href='vscode-notebook-cell:/home/danya-sakharov/Documents/MindsporeLabs/1/mindspore_linear_regression.ipynb#ch0000024?line=9'>10</a>\u001b[0m x_target \u001b[39m=\u001b[39m x\n\u001b[1;32m     <a href='vscode-notebook-cell:/home/danya-sakharov/Documents/MindsporeLabs/1/mindspore_linear_regression.ipynb#ch0000024?line=10'>11</a>\u001b[0m y_target \u001b[39m=\u001b[39m x_target \u001b[39m*\u001b[39m \u001b[39m2\u001b[39m \u001b[39m+\u001b[39m \u001b[39m3\u001b[39m\n\u001b[0;32m---> <a href='vscode-notebook-cell:/home/danya-sakharov/Documents/MindsporeLabs/1/mindspore_linear_regression.ipynb#ch0000024?line=12'>13</a>\u001b[0m plt\u001b[39m.\u001b[39;49maxis([\u001b[39m-\u001b[39;49m\u001b[39m11\u001b[39;49m, \u001b[39m11\u001b[39;49m, \u001b[39m-\u001b[39;49m\u001b[39m20\u001b[39;49m, \u001b[39m25\u001b[39;49m])\n\u001b[1;32m     <a href='vscode-notebook-cell:/home/danya-sakharov/Documents/MindsporeLabs/1/mindspore_linear_regression.ipynb#ch0000024?line=13'>14</a>\u001b[0m plt\u001b[39m.\u001b[39mscatter(x1, y1, color\u001b[39m=\u001b[39m\u001b[39m\"\u001b[39m\u001b[39mred\u001b[39m\u001b[39m\"\u001b[39m, s\u001b[39m=\u001b[39m\u001b[39m5\u001b[39m)\n\u001b[1;32m     <a href='vscode-notebook-cell:/home/danya-sakharov/Documents/MindsporeLabs/1/mindspore_linear_regression.ipynb#ch0000024?line=14'>15</a>\u001b[0m plt\u001b[39m.\u001b[39mplot(x, y, color\u001b[39m=\u001b[39m\u001b[39m\"\u001b[39m\u001b[39mblue\u001b[39m\u001b[39m\"\u001b[39m)\n",
      "File \u001b[0;32m~/Documents/MindsporeLabs/.venv/lib/python3.9/site-packages/matplotlib/pyplot.py:2361\u001b[0m, in \u001b[0;36maxis\u001b[0;34m(emit, *args, **kwargs)\u001b[0m\n\u001b[1;32m   <a href='file:///home/danya-sakharov/Documents/MindsporeLabs/.venv/lib/python3.9/site-packages/matplotlib/pyplot.py?line=2358'>2359</a>\u001b[0m \u001b[39m@_copy_docstring_and_deprecators\u001b[39m(Axes\u001b[39m.\u001b[39maxis)\n\u001b[1;32m   <a href='file:///home/danya-sakharov/Documents/MindsporeLabs/.venv/lib/python3.9/site-packages/matplotlib/pyplot.py?line=2359'>2360</a>\u001b[0m \u001b[39mdef\u001b[39;00m \u001b[39maxis\u001b[39m(\u001b[39m*\u001b[39margs, emit\u001b[39m=\u001b[39m\u001b[39mTrue\u001b[39;00m, \u001b[39m*\u001b[39m\u001b[39m*\u001b[39mkwargs):\n\u001b[0;32m-> <a href='file:///home/danya-sakharov/Documents/MindsporeLabs/.venv/lib/python3.9/site-packages/matplotlib/pyplot.py?line=2360'>2361</a>\u001b[0m     \u001b[39mreturn\u001b[39;00m gca()\u001b[39m.\u001b[39maxis(\u001b[39m*\u001b[39margs, emit\u001b[39m=\u001b[39memit, \u001b[39m*\u001b[39m\u001b[39m*\u001b[39mkwargs)\n",
      "File \u001b[0;32m~/Documents/MindsporeLabs/.venv/lib/python3.9/site-packages/matplotlib/pyplot.py:2262\u001b[0m, in \u001b[0;36mgca\u001b[0;34m(**kwargs)\u001b[0m\n\u001b[1;32m   <a href='file:///home/danya-sakharov/Documents/MindsporeLabs/.venv/lib/python3.9/site-packages/matplotlib/pyplot.py?line=2259'>2260</a>\u001b[0m \u001b[39m@_copy_docstring_and_deprecators\u001b[39m(Figure\u001b[39m.\u001b[39mgca)\n\u001b[1;32m   <a href='file:///home/danya-sakharov/Documents/MindsporeLabs/.venv/lib/python3.9/site-packages/matplotlib/pyplot.py?line=2260'>2261</a>\u001b[0m \u001b[39mdef\u001b[39;00m \u001b[39mgca\u001b[39m(\u001b[39m*\u001b[39m\u001b[39m*\u001b[39mkwargs):\n\u001b[0;32m-> <a href='file:///home/danya-sakharov/Documents/MindsporeLabs/.venv/lib/python3.9/site-packages/matplotlib/pyplot.py?line=2261'>2262</a>\u001b[0m     \u001b[39mreturn\u001b[39;00m gcf()\u001b[39m.\u001b[39;49mgca(\u001b[39m*\u001b[39;49m\u001b[39m*\u001b[39;49mkwargs)\n",
      "File \u001b[0;32m~/Documents/MindsporeLabs/.venv/lib/python3.9/site-packages/matplotlib/figure.py:1515\u001b[0m, in \u001b[0;36mFigureBase.gca\u001b[0;34m(self, **kwargs)\u001b[0m\n\u001b[1;32m   <a href='file:///home/danya-sakharov/Documents/MindsporeLabs/.venv/lib/python3.9/site-packages/matplotlib/figure.py?line=1504'>1505</a>\u001b[0m     _api\u001b[39m.\u001b[39mwarn_deprecated(\n\u001b[1;32m   <a href='file:///home/danya-sakharov/Documents/MindsporeLabs/.venv/lib/python3.9/site-packages/matplotlib/figure.py?line=1505'>1506</a>\u001b[0m         \u001b[39m\"\u001b[39m\u001b[39m3.4\u001b[39m\u001b[39m\"\u001b[39m,\n\u001b[1;32m   <a href='file:///home/danya-sakharov/Documents/MindsporeLabs/.venv/lib/python3.9/site-packages/matplotlib/figure.py?line=1506'>1507</a>\u001b[0m         message\u001b[39m=\u001b[39m\u001b[39m\"\u001b[39m\u001b[39mCalling gca() with keyword arguments was deprecated \u001b[39m\u001b[39m\"\u001b[39m\n\u001b[0;32m   (...)\u001b[0m\n\u001b[1;32m   <a href='file:///home/danya-sakharov/Documents/MindsporeLabs/.venv/lib/python3.9/site-packages/matplotlib/figure.py?line=1511'>1512</a>\u001b[0m         \u001b[39m\"\u001b[39m\u001b[39maxes with non-default arguments, use plt.axes() or \u001b[39m\u001b[39m\"\u001b[39m\n\u001b[1;32m   <a href='file:///home/danya-sakharov/Documents/MindsporeLabs/.venv/lib/python3.9/site-packages/matplotlib/figure.py?line=1512'>1513</a>\u001b[0m         \u001b[39m\"\u001b[39m\u001b[39mplt.subplot().\u001b[39m\u001b[39m\"\u001b[39m)\n\u001b[1;32m   <a href='file:///home/danya-sakharov/Documents/MindsporeLabs/.venv/lib/python3.9/site-packages/matplotlib/figure.py?line=1513'>1514</a>\u001b[0m \u001b[39mif\u001b[39;00m \u001b[39mself\u001b[39m\u001b[39m.\u001b[39m_axstack\u001b[39m.\u001b[39mempty():\n\u001b[0;32m-> <a href='file:///home/danya-sakharov/Documents/MindsporeLabs/.venv/lib/python3.9/site-packages/matplotlib/figure.py?line=1514'>1515</a>\u001b[0m     \u001b[39mreturn\u001b[39;00m \u001b[39mself\u001b[39;49m\u001b[39m.\u001b[39;49madd_subplot(\u001b[39m1\u001b[39;49m, \u001b[39m1\u001b[39;49m, \u001b[39m1\u001b[39;49m, \u001b[39m*\u001b[39;49m\u001b[39m*\u001b[39;49mkwargs)\n\u001b[1;32m   <a href='file:///home/danya-sakharov/Documents/MindsporeLabs/.venv/lib/python3.9/site-packages/matplotlib/figure.py?line=1515'>1516</a>\u001b[0m \u001b[39melse\u001b[39;00m:\n\u001b[1;32m   <a href='file:///home/danya-sakharov/Documents/MindsporeLabs/.venv/lib/python3.9/site-packages/matplotlib/figure.py?line=1516'>1517</a>\u001b[0m     \u001b[39mreturn\u001b[39;00m \u001b[39mself\u001b[39m\u001b[39m.\u001b[39m_axstack()\n",
      "File \u001b[0;32m~/Documents/MindsporeLabs/.venv/lib/python3.9/site-packages/matplotlib/figure.py:772\u001b[0m, in \u001b[0;36mFigureBase.add_subplot\u001b[0;34m(self, *args, **kwargs)\u001b[0m\n\u001b[1;32m    <a href='file:///home/danya-sakharov/Documents/MindsporeLabs/.venv/lib/python3.9/site-packages/matplotlib/figure.py?line=768'>769</a>\u001b[0m         args \u001b[39m=\u001b[39m \u001b[39mtuple\u001b[39m(\u001b[39mmap\u001b[39m(\u001b[39mint\u001b[39m, \u001b[39mstr\u001b[39m(args[\u001b[39m0\u001b[39m])))\n\u001b[1;32m    <a href='file:///home/danya-sakharov/Documents/MindsporeLabs/.venv/lib/python3.9/site-packages/matplotlib/figure.py?line=769'>770</a>\u001b[0m     projection_class, pkw \u001b[39m=\u001b[39m \u001b[39mself\u001b[39m\u001b[39m.\u001b[39m_process_projection_requirements(\n\u001b[1;32m    <a href='file:///home/danya-sakharov/Documents/MindsporeLabs/.venv/lib/python3.9/site-packages/matplotlib/figure.py?line=770'>771</a>\u001b[0m         \u001b[39m*\u001b[39margs, \u001b[39m*\u001b[39m\u001b[39m*\u001b[39mkwargs)\n\u001b[0;32m--> <a href='file:///home/danya-sakharov/Documents/MindsporeLabs/.venv/lib/python3.9/site-packages/matplotlib/figure.py?line=771'>772</a>\u001b[0m     ax \u001b[39m=\u001b[39m subplot_class_factory(projection_class)(\u001b[39mself\u001b[39;49m, \u001b[39m*\u001b[39;49margs, \u001b[39m*\u001b[39;49m\u001b[39m*\u001b[39;49mpkw)\n\u001b[1;32m    <a href='file:///home/danya-sakharov/Documents/MindsporeLabs/.venv/lib/python3.9/site-packages/matplotlib/figure.py?line=772'>773</a>\u001b[0m     key \u001b[39m=\u001b[39m (projection_class, pkw)\n\u001b[1;32m    <a href='file:///home/danya-sakharov/Documents/MindsporeLabs/.venv/lib/python3.9/site-packages/matplotlib/figure.py?line=773'>774</a>\u001b[0m \u001b[39mreturn\u001b[39;00m \u001b[39mself\u001b[39m\u001b[39m.\u001b[39m_add_axes_internal(ax, key)\n",
      "File \u001b[0;32m~/Documents/MindsporeLabs/.venv/lib/python3.9/site-packages/matplotlib/axes/_subplots.py:34\u001b[0m, in \u001b[0;36mSubplotBase.__init__\u001b[0;34m(self, fig, *args, **kwargs)\u001b[0m\n\u001b[1;32m     <a href='file:///home/danya-sakharov/Documents/MindsporeLabs/.venv/lib/python3.9/site-packages/matplotlib/axes/_subplots.py?line=14'>15</a>\u001b[0m \u001b[39m\"\"\"\u001b[39;00m\n\u001b[1;32m     <a href='file:///home/danya-sakharov/Documents/MindsporeLabs/.venv/lib/python3.9/site-packages/matplotlib/axes/_subplots.py?line=15'>16</a>\u001b[0m \u001b[39mParameters\u001b[39;00m\n\u001b[1;32m     <a href='file:///home/danya-sakharov/Documents/MindsporeLabs/.venv/lib/python3.9/site-packages/matplotlib/axes/_subplots.py?line=16'>17</a>\u001b[0m \u001b[39m----------\u001b[39;00m\n\u001b[0;32m   (...)\u001b[0m\n\u001b[1;32m     <a href='file:///home/danya-sakharov/Documents/MindsporeLabs/.venv/lib/python3.9/site-packages/matplotlib/axes/_subplots.py?line=30'>31</a>\u001b[0m \u001b[39m    Keyword arguments are passed to the Axes (sub)class constructor.\u001b[39;00m\n\u001b[1;32m     <a href='file:///home/danya-sakharov/Documents/MindsporeLabs/.venv/lib/python3.9/site-packages/matplotlib/axes/_subplots.py?line=31'>32</a>\u001b[0m \u001b[39m\"\"\"\u001b[39;00m\n\u001b[1;32m     <a href='file:///home/danya-sakharov/Documents/MindsporeLabs/.venv/lib/python3.9/site-packages/matplotlib/axes/_subplots.py?line=32'>33</a>\u001b[0m \u001b[39m# _axes_class is set in the subplot_class_factory\u001b[39;00m\n\u001b[0;32m---> <a href='file:///home/danya-sakharov/Documents/MindsporeLabs/.venv/lib/python3.9/site-packages/matplotlib/axes/_subplots.py?line=33'>34</a>\u001b[0m \u001b[39mself\u001b[39;49m\u001b[39m.\u001b[39;49m_axes_class\u001b[39m.\u001b[39;49m\u001b[39m__init__\u001b[39;49m(\u001b[39mself\u001b[39;49m, fig, [\u001b[39m0\u001b[39;49m, \u001b[39m0\u001b[39;49m, \u001b[39m1\u001b[39;49m, \u001b[39m1\u001b[39;49m], \u001b[39m*\u001b[39;49m\u001b[39m*\u001b[39;49mkwargs)\n\u001b[1;32m     <a href='file:///home/danya-sakharov/Documents/MindsporeLabs/.venv/lib/python3.9/site-packages/matplotlib/axes/_subplots.py?line=34'>35</a>\u001b[0m \u001b[39m# This will also update the axes position.\u001b[39;00m\n\u001b[1;32m     <a href='file:///home/danya-sakharov/Documents/MindsporeLabs/.venv/lib/python3.9/site-packages/matplotlib/axes/_subplots.py?line=35'>36</a>\u001b[0m \u001b[39mself\u001b[39m\u001b[39m.\u001b[39mset_subplotspec(SubplotSpec\u001b[39m.\u001b[39m_from_subplot_args(fig, args))\n",
      "File \u001b[0;32m~/Documents/MindsporeLabs/.venv/lib/python3.9/site-packages/matplotlib/_api/deprecation.py:456\u001b[0m, in \u001b[0;36mmake_keyword_only.<locals>.wrapper\u001b[0;34m(*args, **kwargs)\u001b[0m\n\u001b[1;32m    <a href='file:///home/danya-sakharov/Documents/MindsporeLabs/.venv/lib/python3.9/site-packages/matplotlib/_api/deprecation.py?line=449'>450</a>\u001b[0m \u001b[39mif\u001b[39;00m \u001b[39mlen\u001b[39m(args) \u001b[39m>\u001b[39m name_idx:\n\u001b[1;32m    <a href='file:///home/danya-sakharov/Documents/MindsporeLabs/.venv/lib/python3.9/site-packages/matplotlib/_api/deprecation.py?line=450'>451</a>\u001b[0m     warn_deprecated(\n\u001b[1;32m    <a href='file:///home/danya-sakharov/Documents/MindsporeLabs/.venv/lib/python3.9/site-packages/matplotlib/_api/deprecation.py?line=451'>452</a>\u001b[0m         since, message\u001b[39m=\u001b[39m\u001b[39m\"\u001b[39m\u001b[39mPassing the \u001b[39m\u001b[39m%(name)s\u001b[39;00m\u001b[39m \u001b[39m\u001b[39m%(obj_type)s\u001b[39;00m\u001b[39m \u001b[39m\u001b[39m\"\u001b[39m\n\u001b[1;32m    <a href='file:///home/danya-sakharov/Documents/MindsporeLabs/.venv/lib/python3.9/site-packages/matplotlib/_api/deprecation.py?line=452'>453</a>\u001b[0m         \u001b[39m\"\u001b[39m\u001b[39mpositionally is deprecated since Matplotlib \u001b[39m\u001b[39m%(since)s\u001b[39;00m\u001b[39m; the \u001b[39m\u001b[39m\"\u001b[39m\n\u001b[1;32m    <a href='file:///home/danya-sakharov/Documents/MindsporeLabs/.venv/lib/python3.9/site-packages/matplotlib/_api/deprecation.py?line=453'>454</a>\u001b[0m         \u001b[39m\"\u001b[39m\u001b[39mparameter will become keyword-only \u001b[39m\u001b[39m%(removal)s\u001b[39;00m\u001b[39m.\u001b[39m\u001b[39m\"\u001b[39m,\n\u001b[1;32m    <a href='file:///home/danya-sakharov/Documents/MindsporeLabs/.venv/lib/python3.9/site-packages/matplotlib/_api/deprecation.py?line=454'>455</a>\u001b[0m         name\u001b[39m=\u001b[39mname, obj_type\u001b[39m=\u001b[39m\u001b[39mf\u001b[39m\u001b[39m\"\u001b[39m\u001b[39mparameter of \u001b[39m\u001b[39m{\u001b[39;00mfunc\u001b[39m.\u001b[39m\u001b[39m__name__\u001b[39m\u001b[39m}\u001b[39;00m\u001b[39m()\u001b[39m\u001b[39m\"\u001b[39m)\n\u001b[0;32m--> <a href='file:///home/danya-sakharov/Documents/MindsporeLabs/.venv/lib/python3.9/site-packages/matplotlib/_api/deprecation.py?line=455'>456</a>\u001b[0m \u001b[39mreturn\u001b[39;00m func(\u001b[39m*\u001b[39;49margs, \u001b[39m*\u001b[39;49m\u001b[39m*\u001b[39;49mkwargs)\n",
      "File \u001b[0;32m~/Documents/MindsporeLabs/.venv/lib/python3.9/site-packages/matplotlib/axes/_base.py:624\u001b[0m, in \u001b[0;36m_AxesBase.__init__\u001b[0;34m(self, fig, rect, facecolor, frameon, sharex, sharey, label, xscale, yscale, box_aspect, **kwargs)\u001b[0m\n\u001b[1;32m    <a href='file:///home/danya-sakharov/Documents/MindsporeLabs/.venv/lib/python3.9/site-packages/matplotlib/axes/_base.py?line=620'>621</a>\u001b[0m \u001b[39mself\u001b[39m\u001b[39m.\u001b[39mspines \u001b[39m=\u001b[39m mspines\u001b[39m.\u001b[39mSpines\u001b[39m.\u001b[39mfrom_dict(\u001b[39mself\u001b[39m\u001b[39m.\u001b[39m_gen_axes_spines())\n\u001b[1;32m    <a href='file:///home/danya-sakharov/Documents/MindsporeLabs/.venv/lib/python3.9/site-packages/matplotlib/axes/_base.py?line=622'>623</a>\u001b[0m \u001b[39m# this call may differ for non-sep axes, e.g., polar\u001b[39;00m\n\u001b[0;32m--> <a href='file:///home/danya-sakharov/Documents/MindsporeLabs/.venv/lib/python3.9/site-packages/matplotlib/axes/_base.py?line=623'>624</a>\u001b[0m \u001b[39mself\u001b[39;49m\u001b[39m.\u001b[39;49m_init_axis()\n\u001b[1;32m    <a href='file:///home/danya-sakharov/Documents/MindsporeLabs/.venv/lib/python3.9/site-packages/matplotlib/axes/_base.py?line=624'>625</a>\u001b[0m \u001b[39mif\u001b[39;00m facecolor \u001b[39mis\u001b[39;00m \u001b[39mNone\u001b[39;00m:\n\u001b[1;32m    <a href='file:///home/danya-sakharov/Documents/MindsporeLabs/.venv/lib/python3.9/site-packages/matplotlib/axes/_base.py?line=625'>626</a>\u001b[0m     facecolor \u001b[39m=\u001b[39m mpl\u001b[39m.\u001b[39mrcParams[\u001b[39m'\u001b[39m\u001b[39maxes.facecolor\u001b[39m\u001b[39m'\u001b[39m]\n",
      "File \u001b[0;32m~/Documents/MindsporeLabs/.venv/lib/python3.9/site-packages/matplotlib/axes/_base.py:746\u001b[0m, in \u001b[0;36m_AxesBase._init_axis\u001b[0;34m(self)\u001b[0m\n\u001b[1;32m    <a href='file:///home/danya-sakharov/Documents/MindsporeLabs/.venv/lib/python3.9/site-packages/matplotlib/axes/_base.py?line=743'>744</a>\u001b[0m \u001b[39mself\u001b[39m\u001b[39m.\u001b[39mspines\u001b[39m.\u001b[39mbottom\u001b[39m.\u001b[39mregister_axis(\u001b[39mself\u001b[39m\u001b[39m.\u001b[39mxaxis)\n\u001b[1;32m    <a href='file:///home/danya-sakharov/Documents/MindsporeLabs/.venv/lib/python3.9/site-packages/matplotlib/axes/_base.py?line=744'>745</a>\u001b[0m \u001b[39mself\u001b[39m\u001b[39m.\u001b[39mspines\u001b[39m.\u001b[39mtop\u001b[39m.\u001b[39mregister_axis(\u001b[39mself\u001b[39m\u001b[39m.\u001b[39mxaxis)\n\u001b[0;32m--> <a href='file:///home/danya-sakharov/Documents/MindsporeLabs/.venv/lib/python3.9/site-packages/matplotlib/axes/_base.py?line=745'>746</a>\u001b[0m \u001b[39mself\u001b[39m\u001b[39m.\u001b[39myaxis \u001b[39m=\u001b[39m maxis\u001b[39m.\u001b[39;49mYAxis(\u001b[39mself\u001b[39;49m)\n\u001b[1;32m    <a href='file:///home/danya-sakharov/Documents/MindsporeLabs/.venv/lib/python3.9/site-packages/matplotlib/axes/_base.py?line=746'>747</a>\u001b[0m \u001b[39mself\u001b[39m\u001b[39m.\u001b[39mspines\u001b[39m.\u001b[39mleft\u001b[39m.\u001b[39mregister_axis(\u001b[39mself\u001b[39m\u001b[39m.\u001b[39myaxis)\n\u001b[1;32m    <a href='file:///home/danya-sakharov/Documents/MindsporeLabs/.venv/lib/python3.9/site-packages/matplotlib/axes/_base.py?line=747'>748</a>\u001b[0m \u001b[39mself\u001b[39m\u001b[39m.\u001b[39mspines\u001b[39m.\u001b[39mright\u001b[39m.\u001b[39mregister_axis(\u001b[39mself\u001b[39m\u001b[39m.\u001b[39myaxis)\n",
      "File \u001b[0;32m~/Documents/MindsporeLabs/.venv/lib/python3.9/site-packages/matplotlib/axis.py:2280\u001b[0m, in \u001b[0;36mYAxis.__init__\u001b[0;34m(self, *args, **kwargs)\u001b[0m\n\u001b[1;32m   <a href='file:///home/danya-sakharov/Documents/MindsporeLabs/.venv/lib/python3.9/site-packages/matplotlib/axis.py?line=2278'>2279</a>\u001b[0m \u001b[39mdef\u001b[39;00m \u001b[39m__init__\u001b[39m(\u001b[39mself\u001b[39m, \u001b[39m*\u001b[39margs, \u001b[39m*\u001b[39m\u001b[39m*\u001b[39mkwargs):\n\u001b[0;32m-> <a href='file:///home/danya-sakharov/Documents/MindsporeLabs/.venv/lib/python3.9/site-packages/matplotlib/axis.py?line=2279'>2280</a>\u001b[0m     \u001b[39msuper\u001b[39;49m()\u001b[39m.\u001b[39;49m\u001b[39m__init__\u001b[39;49m(\u001b[39m*\u001b[39;49margs, \u001b[39m*\u001b[39;49m\u001b[39m*\u001b[39;49mkwargs)\n\u001b[1;32m   <a href='file:///home/danya-sakharov/Documents/MindsporeLabs/.venv/lib/python3.9/site-packages/matplotlib/axis.py?line=2280'>2281</a>\u001b[0m     \u001b[39m# x in display coords, y in axes coords (to be updated at draw time by\u001b[39;00m\n\u001b[1;32m   <a href='file:///home/danya-sakharov/Documents/MindsporeLabs/.venv/lib/python3.9/site-packages/matplotlib/axis.py?line=2281'>2282</a>\u001b[0m     \u001b[39m# _update_label_positions and _update_offset_text_position).\u001b[39;00m\n\u001b[1;32m   <a href='file:///home/danya-sakharov/Documents/MindsporeLabs/.venv/lib/python3.9/site-packages/matplotlib/axis.py?line=2282'>2283</a>\u001b[0m     \u001b[39mself\u001b[39m\u001b[39m.\u001b[39mlabel\u001b[39m.\u001b[39mset(\n\u001b[1;32m   <a href='file:///home/danya-sakharov/Documents/MindsporeLabs/.venv/lib/python3.9/site-packages/matplotlib/axis.py?line=2283'>2284</a>\u001b[0m         x\u001b[39m=\u001b[39m\u001b[39m0\u001b[39m, y\u001b[39m=\u001b[39m\u001b[39m0.5\u001b[39m,\n\u001b[1;32m   <a href='file:///home/danya-sakharov/Documents/MindsporeLabs/.venv/lib/python3.9/site-packages/matplotlib/axis.py?line=2284'>2285</a>\u001b[0m         verticalalignment\u001b[39m=\u001b[39m\u001b[39m'\u001b[39m\u001b[39mbottom\u001b[39m\u001b[39m'\u001b[39m, horizontalalignment\u001b[39m=\u001b[39m\u001b[39m'\u001b[39m\u001b[39mcenter\u001b[39m\u001b[39m'\u001b[39m,\n\u001b[0;32m   (...)\u001b[0m\n\u001b[1;32m   <a href='file:///home/danya-sakharov/Documents/MindsporeLabs/.venv/lib/python3.9/site-packages/matplotlib/axis.py?line=2287'>2288</a>\u001b[0m             mtransforms\u001b[39m.\u001b[39mIdentityTransform(), \u001b[39mself\u001b[39m\u001b[39m.\u001b[39maxes\u001b[39m.\u001b[39mtransAxes),\n\u001b[1;32m   <a href='file:///home/danya-sakharov/Documents/MindsporeLabs/.venv/lib/python3.9/site-packages/matplotlib/axis.py?line=2288'>2289</a>\u001b[0m     )\n",
      "File \u001b[0;32m~/Documents/MindsporeLabs/.venv/lib/python3.9/site-packages/matplotlib/axis.py:662\u001b[0m, in \u001b[0;36mAxis.__init__\u001b[0;34m(self, axes, pickradius)\u001b[0m\n\u001b[1;32m    <a href='file:///home/danya-sakharov/Documents/MindsporeLabs/.venv/lib/python3.9/site-packages/matplotlib/axis.py?line=657'>658</a>\u001b[0m \u001b[39mself\u001b[39m\u001b[39m.\u001b[39mcallbacks \u001b[39m=\u001b[39m cbook\u001b[39m.\u001b[39mCallbackRegistry()\n\u001b[1;32m    <a href='file:///home/danya-sakharov/Documents/MindsporeLabs/.venv/lib/python3.9/site-packages/matplotlib/axis.py?line=659'>660</a>\u001b[0m \u001b[39mself\u001b[39m\u001b[39m.\u001b[39m_autolabelpos \u001b[39m=\u001b[39m \u001b[39mTrue\u001b[39;00m\n\u001b[0;32m--> <a href='file:///home/danya-sakharov/Documents/MindsporeLabs/.venv/lib/python3.9/site-packages/matplotlib/axis.py?line=661'>662</a>\u001b[0m \u001b[39mself\u001b[39m\u001b[39m.\u001b[39mlabel \u001b[39m=\u001b[39m mtext\u001b[39m.\u001b[39;49mText(\n\u001b[1;32m    <a href='file:///home/danya-sakharov/Documents/MindsporeLabs/.venv/lib/python3.9/site-packages/matplotlib/axis.py?line=662'>663</a>\u001b[0m     np\u001b[39m.\u001b[39;49mnan, np\u001b[39m.\u001b[39;49mnan,\n\u001b[1;32m    <a href='file:///home/danya-sakharov/Documents/MindsporeLabs/.venv/lib/python3.9/site-packages/matplotlib/axis.py?line=663'>664</a>\u001b[0m     fontsize\u001b[39m=\u001b[39;49mmpl\u001b[39m.\u001b[39;49mrcParams[\u001b[39m'\u001b[39;49m\u001b[39maxes.labelsize\u001b[39;49m\u001b[39m'\u001b[39;49m],\n\u001b[1;32m    <a href='file:///home/danya-sakharov/Documents/MindsporeLabs/.venv/lib/python3.9/site-packages/matplotlib/axis.py?line=664'>665</a>\u001b[0m     fontweight\u001b[39m=\u001b[39;49mmpl\u001b[39m.\u001b[39;49mrcParams[\u001b[39m'\u001b[39;49m\u001b[39maxes.labelweight\u001b[39;49m\u001b[39m'\u001b[39;49m],\n\u001b[1;32m    <a href='file:///home/danya-sakharov/Documents/MindsporeLabs/.venv/lib/python3.9/site-packages/matplotlib/axis.py?line=665'>666</a>\u001b[0m     color\u001b[39m=\u001b[39;49mmpl\u001b[39m.\u001b[39;49mrcParams[\u001b[39m'\u001b[39;49m\u001b[39maxes.labelcolor\u001b[39;49m\u001b[39m'\u001b[39;49m],\n\u001b[1;32m    <a href='file:///home/danya-sakharov/Documents/MindsporeLabs/.venv/lib/python3.9/site-packages/matplotlib/axis.py?line=666'>667</a>\u001b[0m )\n\u001b[1;32m    <a href='file:///home/danya-sakharov/Documents/MindsporeLabs/.venv/lib/python3.9/site-packages/matplotlib/axis.py?line=667'>668</a>\u001b[0m \u001b[39mself\u001b[39m\u001b[39m.\u001b[39m_set_artist_props(\u001b[39mself\u001b[39m\u001b[39m.\u001b[39mlabel)\n\u001b[1;32m    <a href='file:///home/danya-sakharov/Documents/MindsporeLabs/.venv/lib/python3.9/site-packages/matplotlib/axis.py?line=668'>669</a>\u001b[0m \u001b[39mself\u001b[39m\u001b[39m.\u001b[39moffsetText \u001b[39m=\u001b[39m mtext\u001b[39m.\u001b[39mText(np\u001b[39m.\u001b[39mnan, np\u001b[39m.\u001b[39mnan)\n",
      "File \u001b[0;32m~/Documents/MindsporeLabs/.venv/lib/python3.9/site-packages/matplotlib/text.py:160\u001b[0m, in \u001b[0;36mText.__init__\u001b[0;34m(self, x, y, text, color, verticalalignment, horizontalalignment, multialignment, fontproperties, rotation, linespacing, rotation_mode, usetex, wrap, transform_rotates_text, parse_math, **kwargs)\u001b[0m\n\u001b[1;32m    <a href='file:///home/danya-sakharov/Documents/MindsporeLabs/.venv/lib/python3.9/site-packages/matplotlib/text.py?line=157'>158</a>\u001b[0m \u001b[39mself\u001b[39m\u001b[39m.\u001b[39m_linespacing \u001b[39m=\u001b[39m linespacing\n\u001b[1;32m    <a href='file:///home/danya-sakharov/Documents/MindsporeLabs/.venv/lib/python3.9/site-packages/matplotlib/text.py?line=158'>159</a>\u001b[0m \u001b[39mself\u001b[39m\u001b[39m.\u001b[39mset_rotation_mode(rotation_mode)\n\u001b[0;32m--> <a href='file:///home/danya-sakharov/Documents/MindsporeLabs/.venv/lib/python3.9/site-packages/matplotlib/text.py?line=159'>160</a>\u001b[0m \u001b[39mself\u001b[39;49m\u001b[39m.\u001b[39;49mupdate(kwargs)\n",
      "File \u001b[0;32m~/Documents/MindsporeLabs/.venv/lib/python3.9/site-packages/matplotlib/text.py:172\u001b[0m, in \u001b[0;36mText.update\u001b[0;34m(self, kwargs)\u001b[0m\n\u001b[1;32m    <a href='file:///home/danya-sakharov/Documents/MindsporeLabs/.venv/lib/python3.9/site-packages/matplotlib/text.py?line=169'>170</a>\u001b[0m \u001b[39m# Update bbox last, as it depends on font properties.\u001b[39;00m\n\u001b[1;32m    <a href='file:///home/danya-sakharov/Documents/MindsporeLabs/.venv/lib/python3.9/site-packages/matplotlib/text.py?line=170'>171</a>\u001b[0m bbox \u001b[39m=\u001b[39m kwargs\u001b[39m.\u001b[39mpop(\u001b[39m\"\u001b[39m\u001b[39mbbox\u001b[39m\u001b[39m\"\u001b[39m, sentinel)\n\u001b[0;32m--> <a href='file:///home/danya-sakharov/Documents/MindsporeLabs/.venv/lib/python3.9/site-packages/matplotlib/text.py?line=171'>172</a>\u001b[0m \u001b[39msuper\u001b[39;49m()\u001b[39m.\u001b[39;49mupdate(kwargs)\n\u001b[1;32m    <a href='file:///home/danya-sakharov/Documents/MindsporeLabs/.venv/lib/python3.9/site-packages/matplotlib/text.py?line=172'>173</a>\u001b[0m \u001b[39mif\u001b[39;00m bbox \u001b[39mis\u001b[39;00m \u001b[39mnot\u001b[39;00m sentinel:\n\u001b[1;32m    <a href='file:///home/danya-sakharov/Documents/MindsporeLabs/.venv/lib/python3.9/site-packages/matplotlib/text.py?line=173'>174</a>\u001b[0m     \u001b[39mself\u001b[39m\u001b[39m.\u001b[39mset_bbox(bbox)\n",
      "File \u001b[0;32m~/Documents/MindsporeLabs/.venv/lib/python3.9/site-packages/matplotlib/artist.py:1068\u001b[0m, in \u001b[0;36mArtist.update\u001b[0;34m(self, props)\u001b[0m\n\u001b[1;32m   <a href='file:///home/danya-sakharov/Documents/MindsporeLabs/.venv/lib/python3.9/site-packages/matplotlib/artist.py?line=1065'>1066</a>\u001b[0m             ret\u001b[39m.\u001b[39mappend(func(v))\n\u001b[1;32m   <a href='file:///home/danya-sakharov/Documents/MindsporeLabs/.venv/lib/python3.9/site-packages/matplotlib/artist.py?line=1066'>1067</a>\u001b[0m \u001b[39mif\u001b[39;00m ret:\n\u001b[0;32m-> <a href='file:///home/danya-sakharov/Documents/MindsporeLabs/.venv/lib/python3.9/site-packages/matplotlib/artist.py?line=1067'>1068</a>\u001b[0m     \u001b[39mself\u001b[39;49m\u001b[39m.\u001b[39;49mpchanged()\n\u001b[1;32m   <a href='file:///home/danya-sakharov/Documents/MindsporeLabs/.venv/lib/python3.9/site-packages/matplotlib/artist.py?line=1068'>1069</a>\u001b[0m     \u001b[39mself\u001b[39m\u001b[39m.\u001b[39mstale \u001b[39m=\u001b[39m \u001b[39mTrue\u001b[39;00m\n\u001b[1;32m   <a href='file:///home/danya-sakharov/Documents/MindsporeLabs/.venv/lib/python3.9/site-packages/matplotlib/artist.py?line=1069'>1070</a>\u001b[0m \u001b[39mreturn\u001b[39;00m ret\n",
      "\u001b[0;31mKeyboardInterrupt\u001b[0m: "
     ]
    },
    {
     "data": {
      "text/plain": [
       "<Figure size 432x288 with 0 Axes>"
      ]
     },
     "metadata": {},
     "output_type": "display_data"
    }
   ],
   "source": [
    "from mindspore.train.callback import LossMonitor\n",
    "\n",
    "epoch = 1\n",
    "imageshow_cb = ImageShowCallback(net, eval_data)\n",
    "model.train(epoch, ds_train, callbacks=[imageshow_cb], dataset_sink_mode=False)\n",
    "\n",
    "plot_model_and_datasets(net, eval_data)\n",
    "for param in net.trainable_params():\n",
    "    print(param, param.asnumpy())"
   ]
  },
  {
   "cell_type": "markdown",
   "metadata": {},
   "source": [
    "After the training is complete, the weight parameters of the final model are printed. The value of weight is close to 2.0 and the value of bias is close to 3.0. As a result, the model training meets the expectation.\n",
    "\n",
    "## Summary\n",
    "\n",
    "We have learned the principles of the linear fitting algorithm, defined the corresponding algorithms in the MindSpore framework, understood the training process of such linear fitting models in MindSpore, and finally fitted a model function close to the objective function. In addition, you can adjust the dataset generation interval from (-10,10) to (-100,100) to check whether the weight values are closer to those of the objective function; adjust the learning rate to check whether the fitting efficiency changes; or explore how to use MindSpore to fit quadratic functions, such as $f(x)=ax^2+bx+c$, or higher-order functions."
   ]
  }
 ],
 "metadata": {
  "kernelspec": {
   "display_name": "Python 3",
   "language": "python",
   "name": "python3"
  },
  "language_info": {
   "codemirror_mode": {
    "name": "ipython",
    "version": 3
   },
   "file_extension": ".py",
   "mimetype": "text/x-python",
   "name": "python",
   "nbconvert_exporter": "python",
   "pygments_lexer": "ipython3",
   "version": "3.9.5"
  }
 },
 "nbformat": 4,
 "nbformat_minor": 5
}
